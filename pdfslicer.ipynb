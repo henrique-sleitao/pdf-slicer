{
 "cells": [
  {
   "cell_type": "code",
   "execution_count": 1,
   "metadata": {},
   "outputs": [],
   "source": [
    "# caso nunca tenha utilizado essa lib utilize o código: pip install PyPDF2\n",
    "\n",
    "import os\n",
    "from PyPDF2 import PdfReader, PdfWriter"
   ]
  },
  {
   "cell_type": "code",
   "execution_count": 2,
   "metadata": {},
   "outputs": [
    {
     "name": "stdout",
     "output_type": "stream",
     "text": [
      "PDF dividido com sucesso.\n"
     ]
    }
   ],
   "source": [
    "def split_pdf(input_pdf_path, output_dir, pages_per_split):\n",
    "    # Criar diretório de saída se não existir\n",
    "    if not os.path.exists(output_dir):\n",
    "        os.makedirs(output_dir)\n",
    "\n",
    "    with open(input_pdf_path, 'rb') as file:\n",
    "        reader = PdfReader(file)\n",
    "        num_pages = len(reader.pages)\n",
    "        \n",
    "        for i in range(0, num_pages, pages_per_split):\n",
    "            writer = PdfWriter()\n",
    "            split_pages = reader.pages[i:i + pages_per_split]\n",
    "            for page in split_pages:\n",
    "                writer.add_page(page)\n",
    "            \n",
    "            output_pdf_path = os.path.join(output_dir, f'split_{i // pages_per_split}.pdf')\n",
    "            with open(output_pdf_path, 'wb') as output_file:\n",
    "                writer.write(output_file)\n",
    "\n",
    "if __name__ == \"__main__\":\n",
    "    input_pdf_path = r\"C:\\Users\\User\\Documents\\...\"  # Substitua pelo caminho do seu arquivo PDF\n",
    "    output_dir = r\"C:\\Users\\User\\Documents\\...\"  # Diretório de saída para os PDFs divididos\n",
    "    pages_per_split = 10  # Número de páginas por PDF dividido\n",
    "\n",
    "    split_pdf(input_pdf_path, output_dir, pages_per_split)\n",
    "    print(\"PDF dividido com sucesso.\")"
   ]
  }
 ],
 "metadata": {
  "kernelspec": {
   "display_name": "Python 3",
   "language": "python",
   "name": "python3"
  },
  "language_info": {
   "codemirror_mode": {
    "name": "ipython",
    "version": 3
   },
   "file_extension": ".py",
   "mimetype": "text/x-python",
   "name": "python",
   "nbconvert_exporter": "python",
   "pygments_lexer": "ipython3",
   "version": "3.12.2"
  }
 },
 "nbformat": 4,
 "nbformat_minor": 2
}
